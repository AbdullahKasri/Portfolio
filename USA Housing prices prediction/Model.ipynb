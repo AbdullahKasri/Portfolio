{
 "cells": [
  {
   "attachments": {},
   "cell_type": "markdown",
   "metadata": {},
   "source": [
    "## Importing the necessary libraries"
   ]
  },
  {
   "cell_type": "code",
   "execution_count": 1,
   "metadata": {},
   "outputs": [],
   "source": [
    "import pandas as pd\n",
    "import numpy as np\n",
    "import matplotlib.pyplot as plt\n",
    "import seaborn as sns\n",
    "from sklearn.linear_model import LinearRegression\n",
    "from sklearn.preprocessing import StandardScaler, LabelEncoder\n",
    "from sklearn.model_selection import train_test_split\n",
    "from sklearn.pipeline import make_pipeline\n",
    "from sklearn.model_selection import GridSearchCV\n",
    "from sklearn.metrics import r2_score, mean_squared_error\n",
    "from statsmodels.stats.outliers_influence import variance_inflation_factor\n",
    "import statsmodels.api as sm\n",
    "import joblib"
   ]
  },
  {
   "attachments": {},
   "cell_type": "markdown",
   "metadata": {},
   "source": [
    "# About the Data"
   ]
  },
  {
   "attachments": {},
   "cell_type": "markdown",
   "metadata": {},
   "source": [
    "### Obtained from Bruce, P., Bruce, A., & Gedeck, P. (2020). Practical Statistics for Data Scientists. O'Reilly Media, Inc."
   ]
  },
  {
   "attachments": {},
   "cell_type": "markdown",
   "metadata": {},
   "source": [
    "It is 22687 rows × 22 columns\n",
    "\n",
    "The definition of the variables are:\n",
    "\n",
    "\n",
    "DocumentDate: This is the date on which the property sale transaction was recorded.\n",
    "\n",
    "SalePrice: This is the price at which the property was sold.\n",
    "\n",
    "PropertyID: This is a unique identifier assigned to each property in the dataset.\n",
    "\n",
    "PropertyType: This variable indicates the type of property being sold, such as a single-family home, townhouse, or condominium.\n",
    "\n",
    "ym: This variable represents the year and month in which the property sale was recorded.\n",
    "\n",
    "zhvi_px: This is the Zillow Home Value Index (ZHVI) for the property, measured in dollars.\n",
    "\n",
    "zhvi_idx: This is the ZHVI index for the property, which compares its value to the overall housing market.\n",
    "\n",
    "AdjSalePrice: This variable is the SalePrice adjusted for inflation.\n",
    "\n",
    "NbrLivingUnits: This variable indicates the number of living units in the property, such as the number of apartments in a multi-family building.\n",
    "\n",
    "SqFtLot: This variable represents the size of the property in square feet.\n",
    "\n",
    "SqFtTotLiving: This variable represents the total living space in the property, measured in square feet.\n",
    "\n",
    "SqFtFinBasement: This variable represents the finished basement area in the property, measured in square feet.\n",
    "\n",
    "Bathrooms: This variable represents the number of bathrooms in the property.\n",
    "\n",
    "Bedrooms: This variable represents the number of bedrooms in the property.\n",
    "\n",
    "BldgGrade: This variable represents the overall grade of the building, which is determined by its construction quality, design, and condition.\n",
    "\n",
    "YrBuilt: This variable represents the year the building was constructed.\n",
    "\n",
    "YrRenovated: This variable represents the year the building was last renovated.\n",
    "\n",
    "TrafficNoise: This variable represents the level of traffic noise around the property.\n",
    "\n",
    "LandVal: This variable represents the assessed value of the land on which the property is built.\n",
    "\n",
    "ImpsVal: This variable represents the assessed value of the improvements on the land, such as the building and any other structures.\n",
    "\n",
    "ZipCode: This variable represents the zip code in which the property is located.\n",
    "NewConstruction: This variable indicates whether the property is newly constructed or not."
   ]
  },
  {
   "attachments": {},
   "cell_type": "markdown",
   "metadata": {},
   "source": [
    "# Data preprocessing"
   ]
  },
  {
   "cell_type": "code",
   "execution_count": 2,
   "metadata": {},
   "outputs": [
    {
     "data": {
      "text/html": [
       "<div>\n",
       "<style scoped>\n",
       "    .dataframe tbody tr th:only-of-type {\n",
       "        vertical-align: middle;\n",
       "    }\n",
       "\n",
       "    .dataframe tbody tr th {\n",
       "        vertical-align: top;\n",
       "    }\n",
       "\n",
       "    .dataframe thead th {\n",
       "        text-align: right;\n",
       "    }\n",
       "</style>\n",
       "<table border=\"1\" class=\"dataframe\">\n",
       "  <thead>\n",
       "    <tr style=\"text-align: right;\">\n",
       "      <th></th>\n",
       "      <th>DocumentDate</th>\n",
       "      <th>SalePrice</th>\n",
       "      <th>PropertyID</th>\n",
       "      <th>PropertyType</th>\n",
       "      <th>ym</th>\n",
       "      <th>zhvi_px</th>\n",
       "      <th>zhvi_idx</th>\n",
       "      <th>AdjSalePrice</th>\n",
       "      <th>NbrLivingUnits</th>\n",
       "      <th>SqFtLot</th>\n",
       "      <th>...</th>\n",
       "      <th>Bathrooms</th>\n",
       "      <th>Bedrooms</th>\n",
       "      <th>BldgGrade</th>\n",
       "      <th>YrBuilt</th>\n",
       "      <th>YrRenovated</th>\n",
       "      <th>TrafficNoise</th>\n",
       "      <th>LandVal</th>\n",
       "      <th>ImpsVal</th>\n",
       "      <th>ZipCode</th>\n",
       "      <th>NewConstruction</th>\n",
       "    </tr>\n",
       "  </thead>\n",
       "  <tbody>\n",
       "    <tr>\n",
       "      <th>1</th>\n",
       "      <td>2014-09-16</td>\n",
       "      <td>280000</td>\n",
       "      <td>1000102</td>\n",
       "      <td>Multiplex</td>\n",
       "      <td>2014-09-01</td>\n",
       "      <td>405100</td>\n",
       "      <td>0.930836</td>\n",
       "      <td>300805.0</td>\n",
       "      <td>2</td>\n",
       "      <td>9373</td>\n",
       "      <td>...</td>\n",
       "      <td>3.00</td>\n",
       "      <td>6</td>\n",
       "      <td>7</td>\n",
       "      <td>1991</td>\n",
       "      <td>0</td>\n",
       "      <td>0</td>\n",
       "      <td>70000</td>\n",
       "      <td>229000</td>\n",
       "      <td>98002</td>\n",
       "      <td>False</td>\n",
       "    </tr>\n",
       "    <tr>\n",
       "      <th>2</th>\n",
       "      <td>2006-06-16</td>\n",
       "      <td>1000000</td>\n",
       "      <td>1200013</td>\n",
       "      <td>Single Family</td>\n",
       "      <td>2006-06-01</td>\n",
       "      <td>404400</td>\n",
       "      <td>0.929228</td>\n",
       "      <td>1076162.0</td>\n",
       "      <td>1</td>\n",
       "      <td>20156</td>\n",
       "      <td>...</td>\n",
       "      <td>3.75</td>\n",
       "      <td>4</td>\n",
       "      <td>10</td>\n",
       "      <td>2005</td>\n",
       "      <td>0</td>\n",
       "      <td>0</td>\n",
       "      <td>203000</td>\n",
       "      <td>590000</td>\n",
       "      <td>98166</td>\n",
       "      <td>True</td>\n",
       "    </tr>\n",
       "    <tr>\n",
       "      <th>3</th>\n",
       "      <td>2007-01-29</td>\n",
       "      <td>745000</td>\n",
       "      <td>1200019</td>\n",
       "      <td>Single Family</td>\n",
       "      <td>2007-01-01</td>\n",
       "      <td>425600</td>\n",
       "      <td>0.977941</td>\n",
       "      <td>761805.0</td>\n",
       "      <td>1</td>\n",
       "      <td>26036</td>\n",
       "      <td>...</td>\n",
       "      <td>1.75</td>\n",
       "      <td>4</td>\n",
       "      <td>8</td>\n",
       "      <td>1947</td>\n",
       "      <td>0</td>\n",
       "      <td>0</td>\n",
       "      <td>183000</td>\n",
       "      <td>275000</td>\n",
       "      <td>98166</td>\n",
       "      <td>False</td>\n",
       "    </tr>\n",
       "    <tr>\n",
       "      <th>4</th>\n",
       "      <td>2008-02-25</td>\n",
       "      <td>425000</td>\n",
       "      <td>2800016</td>\n",
       "      <td>Single Family</td>\n",
       "      <td>2008-02-01</td>\n",
       "      <td>418400</td>\n",
       "      <td>0.961397</td>\n",
       "      <td>442065.0</td>\n",
       "      <td>1</td>\n",
       "      <td>8618</td>\n",
       "      <td>...</td>\n",
       "      <td>3.75</td>\n",
       "      <td>5</td>\n",
       "      <td>7</td>\n",
       "      <td>1966</td>\n",
       "      <td>0</td>\n",
       "      <td>0</td>\n",
       "      <td>104000</td>\n",
       "      <td>229000</td>\n",
       "      <td>98168</td>\n",
       "      <td>False</td>\n",
       "    </tr>\n",
       "    <tr>\n",
       "      <th>5</th>\n",
       "      <td>2013-03-29</td>\n",
       "      <td>240000</td>\n",
       "      <td>2800024</td>\n",
       "      <td>Single Family</td>\n",
       "      <td>2013-03-01</td>\n",
       "      <td>351600</td>\n",
       "      <td>0.807904</td>\n",
       "      <td>297065.0</td>\n",
       "      <td>1</td>\n",
       "      <td>8620</td>\n",
       "      <td>...</td>\n",
       "      <td>1.75</td>\n",
       "      <td>4</td>\n",
       "      <td>7</td>\n",
       "      <td>1948</td>\n",
       "      <td>0</td>\n",
       "      <td>0</td>\n",
       "      <td>104000</td>\n",
       "      <td>205000</td>\n",
       "      <td>98168</td>\n",
       "      <td>False</td>\n",
       "    </tr>\n",
       "    <tr>\n",
       "      <th>...</th>\n",
       "      <td>...</td>\n",
       "      <td>...</td>\n",
       "      <td>...</td>\n",
       "      <td>...</td>\n",
       "      <td>...</td>\n",
       "      <td>...</td>\n",
       "      <td>...</td>\n",
       "      <td>...</td>\n",
       "      <td>...</td>\n",
       "      <td>...</td>\n",
       "      <td>...</td>\n",
       "      <td>...</td>\n",
       "      <td>...</td>\n",
       "      <td>...</td>\n",
       "      <td>...</td>\n",
       "      <td>...</td>\n",
       "      <td>...</td>\n",
       "      <td>...</td>\n",
       "      <td>...</td>\n",
       "      <td>...</td>\n",
       "      <td>...</td>\n",
       "    </tr>\n",
       "    <tr>\n",
       "      <th>27057</th>\n",
       "      <td>2011-04-08</td>\n",
       "      <td>325000</td>\n",
       "      <td>9842300710</td>\n",
       "      <td>Single Family</td>\n",
       "      <td>2011-04-01</td>\n",
       "      <td>318700</td>\n",
       "      <td>0.732307</td>\n",
       "      <td>443803.0</td>\n",
       "      <td>1</td>\n",
       "      <td>5468</td>\n",
       "      <td>...</td>\n",
       "      <td>1.75</td>\n",
       "      <td>3</td>\n",
       "      <td>7</td>\n",
       "      <td>1951</td>\n",
       "      <td>0</td>\n",
       "      <td>0</td>\n",
       "      <td>201000</td>\n",
       "      <td>172000</td>\n",
       "      <td>98126</td>\n",
       "      <td>False</td>\n",
       "    </tr>\n",
       "    <tr>\n",
       "      <th>27058</th>\n",
       "      <td>2007-09-28</td>\n",
       "      <td>1580000</td>\n",
       "      <td>9845500010</td>\n",
       "      <td>Single Family</td>\n",
       "      <td>2007-09-01</td>\n",
       "      <td>433500</td>\n",
       "      <td>0.996094</td>\n",
       "      <td>1586196.0</td>\n",
       "      <td>1</td>\n",
       "      <td>23914</td>\n",
       "      <td>...</td>\n",
       "      <td>4.50</td>\n",
       "      <td>4</td>\n",
       "      <td>11</td>\n",
       "      <td>2000</td>\n",
       "      <td>0</td>\n",
       "      <td>1</td>\n",
       "      <td>703000</td>\n",
       "      <td>951000</td>\n",
       "      <td>98040</td>\n",
       "      <td>False</td>\n",
       "    </tr>\n",
       "    <tr>\n",
       "      <th>27061</th>\n",
       "      <td>2012-07-09</td>\n",
       "      <td>165000</td>\n",
       "      <td>9899200010</td>\n",
       "      <td>Single Family</td>\n",
       "      <td>2012-07-01</td>\n",
       "      <td>325300</td>\n",
       "      <td>0.747472</td>\n",
       "      <td>220744.0</td>\n",
       "      <td>1</td>\n",
       "      <td>11170</td>\n",
       "      <td>...</td>\n",
       "      <td>1.00</td>\n",
       "      <td>4</td>\n",
       "      <td>6</td>\n",
       "      <td>1971</td>\n",
       "      <td>0</td>\n",
       "      <td>0</td>\n",
       "      <td>92000</td>\n",
       "      <td>130000</td>\n",
       "      <td>98055</td>\n",
       "      <td>False</td>\n",
       "    </tr>\n",
       "    <tr>\n",
       "      <th>27062</th>\n",
       "      <td>2006-05-26</td>\n",
       "      <td>315000</td>\n",
       "      <td>9900000355</td>\n",
       "      <td>Single Family</td>\n",
       "      <td>2006-05-01</td>\n",
       "      <td>400600</td>\n",
       "      <td>0.920496</td>\n",
       "      <td>342207.0</td>\n",
       "      <td>1</td>\n",
       "      <td>6223</td>\n",
       "      <td>...</td>\n",
       "      <td>2.00</td>\n",
       "      <td>3</td>\n",
       "      <td>7</td>\n",
       "      <td>1939</td>\n",
       "      <td>0</td>\n",
       "      <td>0</td>\n",
       "      <td>103000</td>\n",
       "      <td>212000</td>\n",
       "      <td>98166</td>\n",
       "      <td>False</td>\n",
       "    </tr>\n",
       "    <tr>\n",
       "      <th>27063</th>\n",
       "      <td>2007-01-09</td>\n",
       "      <td>465000</td>\n",
       "      <td>9906000035</td>\n",
       "      <td>Single Family</td>\n",
       "      <td>2007-01-01</td>\n",
       "      <td>425600</td>\n",
       "      <td>0.977941</td>\n",
       "      <td>475489.0</td>\n",
       "      <td>1</td>\n",
       "      <td>4400</td>\n",
       "      <td>...</td>\n",
       "      <td>1.50</td>\n",
       "      <td>3</td>\n",
       "      <td>7</td>\n",
       "      <td>1928</td>\n",
       "      <td>0</td>\n",
       "      <td>0</td>\n",
       "      <td>311000</td>\n",
       "      <td>268000</td>\n",
       "      <td>98103</td>\n",
       "      <td>False</td>\n",
       "    </tr>\n",
       "  </tbody>\n",
       "</table>\n",
       "<p>22687 rows × 22 columns</p>\n",
       "</div>"
      ],
      "text/plain": [
       "      DocumentDate  SalePrice  PropertyID   PropertyType          ym  zhvi_px  \\\n",
       "1       2014-09-16     280000     1000102      Multiplex  2014-09-01   405100   \n",
       "2       2006-06-16    1000000     1200013  Single Family  2006-06-01   404400   \n",
       "3       2007-01-29     745000     1200019  Single Family  2007-01-01   425600   \n",
       "4       2008-02-25     425000     2800016  Single Family  2008-02-01   418400   \n",
       "5       2013-03-29     240000     2800024  Single Family  2013-03-01   351600   \n",
       "...            ...        ...         ...            ...         ...      ...   \n",
       "27057   2011-04-08     325000  9842300710  Single Family  2011-04-01   318700   \n",
       "27058   2007-09-28    1580000  9845500010  Single Family  2007-09-01   433500   \n",
       "27061   2012-07-09     165000  9899200010  Single Family  2012-07-01   325300   \n",
       "27062   2006-05-26     315000  9900000355  Single Family  2006-05-01   400600   \n",
       "27063   2007-01-09     465000  9906000035  Single Family  2007-01-01   425600   \n",
       "\n",
       "       zhvi_idx  AdjSalePrice  NbrLivingUnits  SqFtLot  ...  Bathrooms  \\\n",
       "1      0.930836      300805.0               2     9373  ...       3.00   \n",
       "2      0.929228     1076162.0               1    20156  ...       3.75   \n",
       "3      0.977941      761805.0               1    26036  ...       1.75   \n",
       "4      0.961397      442065.0               1     8618  ...       3.75   \n",
       "5      0.807904      297065.0               1     8620  ...       1.75   \n",
       "...         ...           ...             ...      ...  ...        ...   \n",
       "27057  0.732307      443803.0               1     5468  ...       1.75   \n",
       "27058  0.996094     1586196.0               1    23914  ...       4.50   \n",
       "27061  0.747472      220744.0               1    11170  ...       1.00   \n",
       "27062  0.920496      342207.0               1     6223  ...       2.00   \n",
       "27063  0.977941      475489.0               1     4400  ...       1.50   \n",
       "\n",
       "       Bedrooms  BldgGrade  YrBuilt  YrRenovated  TrafficNoise  LandVal  \\\n",
       "1             6          7     1991            0             0    70000   \n",
       "2             4         10     2005            0             0   203000   \n",
       "3             4          8     1947            0             0   183000   \n",
       "4             5          7     1966            0             0   104000   \n",
       "5             4          7     1948            0             0   104000   \n",
       "...         ...        ...      ...          ...           ...      ...   \n",
       "27057         3          7     1951            0             0   201000   \n",
       "27058         4         11     2000            0             1   703000   \n",
       "27061         4          6     1971            0             0    92000   \n",
       "27062         3          7     1939            0             0   103000   \n",
       "27063         3          7     1928            0             0   311000   \n",
       "\n",
       "       ImpsVal  ZipCode  NewConstruction  \n",
       "1       229000    98002            False  \n",
       "2       590000    98166             True  \n",
       "3       275000    98166            False  \n",
       "4       229000    98168            False  \n",
       "5       205000    98168            False  \n",
       "...        ...      ...              ...  \n",
       "27057   172000    98126            False  \n",
       "27058   951000    98040            False  \n",
       "27061   130000    98055            False  \n",
       "27062   212000    98166            False  \n",
       "27063   268000    98103            False  \n",
       "\n",
       "[22687 rows x 22 columns]"
      ]
     },
     "execution_count": 2,
     "metadata": {},
     "output_type": "execute_result"
    }
   ],
   "source": [
    "data = pd.read_csv(\"house_sales.csv\", sep = '\\t')\n",
    "data"
   ]
  },
  {
   "attachments": {},
   "cell_type": "markdown",
   "metadata": {},
   "source": [
    "Since the 'NewConstruction' feature is categorical, we need to transform it to a binary format"
   ]
  },
  {
   "cell_type": "code",
   "execution_count": 3,
   "metadata": {},
   "outputs": [],
   "source": [
    "# create a LabelEncoder object\n",
    "le = LabelEncoder()\n",
    "\n",
    "# apply the LabelEncoder to the 'color' column\n",
    "data['NewConstruction_encoded'] = le.fit_transform(data['NewConstruction'])\n",
    "\n",
    "# drop the original 'color' column\n",
    "data.drop('NewConstruction', axis = 1, inplace = True)"
   ]
  },
  {
   "attachments": {},
   "cell_type": "markdown",
   "metadata": {},
   "source": [
    "I selected these relevant columns as I believe they can explain the price of a house "
   ]
  },
  {
   "cell_type": "code",
   "execution_count": 4,
   "metadata": {},
   "outputs": [],
   "source": [
    "X = data[\n",
    "    [\n",
    "    'zhvi_px', 'zhvi_idx', 'NbrLivingUnits', \n",
    "    'NbrLivingUnits', 'SqFtLot', 'SqFtTotLiving', \n",
    "    'SqFtFinBasement', 'Bathrooms', 'Bedrooms',\n",
    "    'BldgGrade', 'YrBuilt', 'YrRenovated', \n",
    "    'TrafficNoise', 'LandVal', 'ImpsVal', \n",
    "    'NewConstruction_encoded'\n",
    "    ]\n",
    "]\n",
    "y = data['AdjSalePrice']"
   ]
  },
  {
   "attachments": {},
   "cell_type": "markdown",
   "metadata": {},
   "source": [
    "Let's check out how much each feature has an influence on the overall variance.\n",
    "We usally prefer features with VIF < 30, where VIF: Variance-inflating-Factor."
   ]
  },
  {
   "cell_type": "code",
   "execution_count": 5,
   "metadata": {},
   "outputs": [
    {
     "name": "stderr",
     "output_type": "stream",
     "text": [
      "c:\\Users\\adana\\AppData\\Local\\Programs\\Python\\Python310\\lib\\site-packages\\statsmodels\\stats\\outliers_influence.py:195: RuntimeWarning: divide by zero encountered in scalar divide\n",
      "  vif = 1. / (1. - r_squared_i)\n"
     ]
    },
    {
     "data": {
      "text/html": [
       "<div>\n",
       "<style scoped>\n",
       "    .dataframe tbody tr th:only-of-type {\n",
       "        vertical-align: middle;\n",
       "    }\n",
       "\n",
       "    .dataframe tbody tr th {\n",
       "        vertical-align: top;\n",
       "    }\n",
       "\n",
       "    .dataframe thead th {\n",
       "        text-align: right;\n",
       "    }\n",
       "</style>\n",
       "<table border=\"1\" class=\"dataframe\">\n",
       "  <thead>\n",
       "    <tr style=\"text-align: right;\">\n",
       "      <th></th>\n",
       "      <th>Feature</th>\n",
       "      <th>VIF</th>\n",
       "    </tr>\n",
       "  </thead>\n",
       "  <tbody>\n",
       "    <tr>\n",
       "      <th>0</th>\n",
       "      <td>zhvi_px</td>\n",
       "      <td>inf</td>\n",
       "    </tr>\n",
       "    <tr>\n",
       "      <th>1</th>\n",
       "      <td>zhvi_idx</td>\n",
       "      <td>inf</td>\n",
       "    </tr>\n",
       "    <tr>\n",
       "      <th>2</th>\n",
       "      <td>NbrLivingUnits</td>\n",
       "      <td>inf</td>\n",
       "    </tr>\n",
       "    <tr>\n",
       "      <th>3</th>\n",
       "      <td>NbrLivingUnits</td>\n",
       "      <td>inf</td>\n",
       "    </tr>\n",
       "    <tr>\n",
       "      <th>4</th>\n",
       "      <td>SqFtLot</td>\n",
       "      <td>1.241349</td>\n",
       "    </tr>\n",
       "    <tr>\n",
       "      <th>5</th>\n",
       "      <td>SqFtTotLiving</td>\n",
       "      <td>34.717742</td>\n",
       "    </tr>\n",
       "    <tr>\n",
       "      <th>6</th>\n",
       "      <td>SqFtFinBasement</td>\n",
       "      <td>2.006095</td>\n",
       "    </tr>\n",
       "    <tr>\n",
       "      <th>7</th>\n",
       "      <td>Bathrooms</td>\n",
       "      <td>24.694736</td>\n",
       "    </tr>\n",
       "    <tr>\n",
       "      <th>8</th>\n",
       "      <td>Bedrooms</td>\n",
       "      <td>26.281756</td>\n",
       "    </tr>\n",
       "    <tr>\n",
       "      <th>9</th>\n",
       "      <td>BldgGrade</td>\n",
       "      <td>157.303135</td>\n",
       "    </tr>\n",
       "    <tr>\n",
       "      <th>10</th>\n",
       "      <td>YrBuilt</td>\n",
       "      <td>280.536270</td>\n",
       "    </tr>\n",
       "    <tr>\n",
       "      <th>11</th>\n",
       "      <td>YrRenovated</td>\n",
       "      <td>1.093733</td>\n",
       "    </tr>\n",
       "    <tr>\n",
       "      <th>12</th>\n",
       "      <td>TrafficNoise</td>\n",
       "      <td>1.164960</td>\n",
       "    </tr>\n",
       "    <tr>\n",
       "      <th>13</th>\n",
       "      <td>LandVal</td>\n",
       "      <td>3.945886</td>\n",
       "    </tr>\n",
       "    <tr>\n",
       "      <th>14</th>\n",
       "      <td>ImpsVal</td>\n",
       "      <td>9.276141</td>\n",
       "    </tr>\n",
       "    <tr>\n",
       "      <th>15</th>\n",
       "      <td>NewConstruction_encoded</td>\n",
       "      <td>1.260272</td>\n",
       "    </tr>\n",
       "  </tbody>\n",
       "</table>\n",
       "</div>"
      ],
      "text/plain": [
       "                    Feature         VIF\n",
       "0                   zhvi_px         inf\n",
       "1                  zhvi_idx         inf\n",
       "2            NbrLivingUnits         inf\n",
       "3            NbrLivingUnits         inf\n",
       "4                   SqFtLot    1.241349\n",
       "5             SqFtTotLiving   34.717742\n",
       "6           SqFtFinBasement    2.006095\n",
       "7                 Bathrooms   24.694736\n",
       "8                  Bedrooms   26.281756\n",
       "9                 BldgGrade  157.303135\n",
       "10                  YrBuilt  280.536270\n",
       "11              YrRenovated    1.093733\n",
       "12             TrafficNoise    1.164960\n",
       "13                  LandVal    3.945886\n",
       "14                  ImpsVal    9.276141\n",
       "15  NewConstruction_encoded    1.260272"
      ]
     },
     "execution_count": 5,
     "metadata": {},
     "output_type": "execute_result"
    }
   ],
   "source": [
    "# calculate the VIF for each X variable\n",
    "\n",
    "vif = pd.DataFrame()\n",
    "vif['Feature'] = X.columns\n",
    "vif['VIF'] = [variance_inflation_factor(X.values, i) for i in range(X.shape[1])]\n",
    "vif"
   ]
  },
  {
   "attachments": {},
   "cell_type": "markdown",
   "metadata": {},
   "source": [
    "As seen above, the variables 'zhvi_px', 'zhvi_idx', 'NbrLivingUnits', & 'NbrLivingUnits' have an infinite variance! \n",
    "\n",
    "This is troublesome for us when creating the prediction model later. Therefore, we drop these variables and redo the VIF tests."
   ]
  },
  {
   "cell_type": "code",
   "execution_count": 6,
   "metadata": {},
   "outputs": [
    {
     "data": {
      "text/html": [
       "<div>\n",
       "<style scoped>\n",
       "    .dataframe tbody tr th:only-of-type {\n",
       "        vertical-align: middle;\n",
       "    }\n",
       "\n",
       "    .dataframe tbody tr th {\n",
       "        vertical-align: top;\n",
       "    }\n",
       "\n",
       "    .dataframe thead th {\n",
       "        text-align: right;\n",
       "    }\n",
       "</style>\n",
       "<table border=\"1\" class=\"dataframe\">\n",
       "  <thead>\n",
       "    <tr style=\"text-align: right;\">\n",
       "      <th></th>\n",
       "      <th>Feature</th>\n",
       "      <th>VIF</th>\n",
       "    </tr>\n",
       "  </thead>\n",
       "  <tbody>\n",
       "    <tr>\n",
       "      <th>0</th>\n",
       "      <td>SqFtLot</td>\n",
       "      <td>1.241181</td>\n",
       "    </tr>\n",
       "    <tr>\n",
       "      <th>1</th>\n",
       "      <td>SqFtTotLiving</td>\n",
       "      <td>34.712519</td>\n",
       "    </tr>\n",
       "    <tr>\n",
       "      <th>2</th>\n",
       "      <td>SqFtFinBasement</td>\n",
       "      <td>2.004472</td>\n",
       "    </tr>\n",
       "    <tr>\n",
       "      <th>3</th>\n",
       "      <td>Bathrooms</td>\n",
       "      <td>24.388421</td>\n",
       "    </tr>\n",
       "    <tr>\n",
       "      <th>4</th>\n",
       "      <td>Bedrooms</td>\n",
       "      <td>25.813655</td>\n",
       "    </tr>\n",
       "    <tr>\n",
       "      <th>5</th>\n",
       "      <td>BldgGrade</td>\n",
       "      <td>154.274566</td>\n",
       "    </tr>\n",
       "    <tr>\n",
       "      <th>6</th>\n",
       "      <td>YrBuilt</td>\n",
       "      <td>106.011038</td>\n",
       "    </tr>\n",
       "    <tr>\n",
       "      <th>7</th>\n",
       "      <td>YrRenovated</td>\n",
       "      <td>1.091999</td>\n",
       "    </tr>\n",
       "    <tr>\n",
       "      <th>8</th>\n",
       "      <td>TrafficNoise</td>\n",
       "      <td>1.153609</td>\n",
       "    </tr>\n",
       "    <tr>\n",
       "      <th>9</th>\n",
       "      <td>LandVal</td>\n",
       "      <td>3.925212</td>\n",
       "    </tr>\n",
       "    <tr>\n",
       "      <th>10</th>\n",
       "      <td>ImpsVal</td>\n",
       "      <td>9.273215</td>\n",
       "    </tr>\n",
       "    <tr>\n",
       "      <th>11</th>\n",
       "      <td>NewConstruction_encoded</td>\n",
       "      <td>1.256736</td>\n",
       "    </tr>\n",
       "  </tbody>\n",
       "</table>\n",
       "</div>"
      ],
      "text/plain": [
       "                    Feature         VIF\n",
       "0                   SqFtLot    1.241181\n",
       "1             SqFtTotLiving   34.712519\n",
       "2           SqFtFinBasement    2.004472\n",
       "3                 Bathrooms   24.388421\n",
       "4                  Bedrooms   25.813655\n",
       "5                 BldgGrade  154.274566\n",
       "6                   YrBuilt  106.011038\n",
       "7               YrRenovated    1.091999\n",
       "8              TrafficNoise    1.153609\n",
       "9                   LandVal    3.925212\n",
       "10                  ImpsVal    9.273215\n",
       "11  NewConstruction_encoded    1.256736"
      ]
     },
     "execution_count": 6,
     "metadata": {},
     "output_type": "execute_result"
    }
   ],
   "source": [
    "X = X.drop(['zhvi_px', 'zhvi_idx', 'NbrLivingUnits', 'NbrLivingUnits'], axis = 1)\n",
    "\n",
    "vif = pd.DataFrame()\n",
    "vif['Feature'] = X.columns\n",
    "vif['VIF'] = [variance_inflation_factor(X.values, i) for i in range(X.shape[1])]\n",
    "vif"
   ]
  },
  {
   "attachments": {},
   "cell_type": "markdown",
   "metadata": {},
   "source": [
    "After doing so, we also see that 'BldgGrade' & 'YrBuilt' are highly variant. So we drop them too."
   ]
  },
  {
   "cell_type": "code",
   "execution_count": 7,
   "metadata": {},
   "outputs": [
    {
     "data": {
      "text/html": [
       "<div>\n",
       "<style scoped>\n",
       "    .dataframe tbody tr th:only-of-type {\n",
       "        vertical-align: middle;\n",
       "    }\n",
       "\n",
       "    .dataframe tbody tr th {\n",
       "        vertical-align: top;\n",
       "    }\n",
       "\n",
       "    .dataframe thead th {\n",
       "        text-align: right;\n",
       "    }\n",
       "</style>\n",
       "<table border=\"1\" class=\"dataframe\">\n",
       "  <thead>\n",
       "    <tr style=\"text-align: right;\">\n",
       "      <th></th>\n",
       "      <th>Feature</th>\n",
       "      <th>VIF</th>\n",
       "    </tr>\n",
       "  </thead>\n",
       "  <tbody>\n",
       "    <tr>\n",
       "      <th>0</th>\n",
       "      <td>SqFtLot</td>\n",
       "      <td>1.238547</td>\n",
       "    </tr>\n",
       "    <tr>\n",
       "      <th>1</th>\n",
       "      <td>SqFtTotLiving</td>\n",
       "      <td>28.998179</td>\n",
       "    </tr>\n",
       "    <tr>\n",
       "      <th>2</th>\n",
       "      <td>SqFtFinBasement</td>\n",
       "      <td>1.823951</td>\n",
       "    </tr>\n",
       "    <tr>\n",
       "      <th>3</th>\n",
       "      <td>Bathrooms</td>\n",
       "      <td>21.528518</td>\n",
       "    </tr>\n",
       "    <tr>\n",
       "      <th>4</th>\n",
       "      <td>Bedrooms</td>\n",
       "      <td>15.453433</td>\n",
       "    </tr>\n",
       "    <tr>\n",
       "      <th>5</th>\n",
       "      <td>YrRenovated</td>\n",
       "      <td>1.090265</td>\n",
       "    </tr>\n",
       "    <tr>\n",
       "      <th>6</th>\n",
       "      <td>TrafficNoise</td>\n",
       "      <td>1.131878</td>\n",
       "    </tr>\n",
       "    <tr>\n",
       "      <th>7</th>\n",
       "      <td>LandVal</td>\n",
       "      <td>3.738511</td>\n",
       "    </tr>\n",
       "    <tr>\n",
       "      <th>8</th>\n",
       "      <td>ImpsVal</td>\n",
       "      <td>8.162535</td>\n",
       "    </tr>\n",
       "    <tr>\n",
       "      <th>9</th>\n",
       "      <td>NewConstruction_encoded</td>\n",
       "      <td>1.253322</td>\n",
       "    </tr>\n",
       "  </tbody>\n",
       "</table>\n",
       "</div>"
      ],
      "text/plain": [
       "                   Feature        VIF\n",
       "0                  SqFtLot   1.238547\n",
       "1            SqFtTotLiving  28.998179\n",
       "2          SqFtFinBasement   1.823951\n",
       "3                Bathrooms  21.528518\n",
       "4                 Bedrooms  15.453433\n",
       "5              YrRenovated   1.090265\n",
       "6             TrafficNoise   1.131878\n",
       "7                  LandVal   3.738511\n",
       "8                  ImpsVal   8.162535\n",
       "9  NewConstruction_encoded   1.253322"
      ]
     },
     "execution_count": 7,
     "metadata": {},
     "output_type": "execute_result"
    }
   ],
   "source": [
    "X = X.drop(['BldgGrade', 'YrBuilt'], axis = 1)\n",
    "\n",
    "vif = pd.DataFrame()\n",
    "vif['Feature'] = X.columns\n",
    "vif['VIF'] = [variance_inflation_factor(X.values, i) for i in range(X.shape[1])]\n",
    "vif"
   ]
  },
  {
   "attachments": {},
   "cell_type": "markdown",
   "metadata": {},
   "source": [
    "Ok, now our variables are not so variant and are suitable to use for prediction"
   ]
  },
  {
   "attachments": {},
   "cell_type": "markdown",
   "metadata": {},
   "source": [
    "Split the data into 70% training and 30% testing, randomly."
   ]
  },
  {
   "cell_type": "code",
   "execution_count": 8,
   "metadata": {},
   "outputs": [],
   "source": [
    "X_train, X_test, y_train, y_test = train_test_split(X, y, random_state = 42, shuffle = True, test_size = 0.3)"
   ]
  },
  {
   "attachments": {},
   "cell_type": "markdown",
   "metadata": {},
   "source": [
    "# Model Development"
   ]
  },
  {
   "attachments": {},
   "cell_type": "markdown",
   "metadata": {},
   "source": [
    "Defining the pipeline with a StandardScaler (to standardize the variables right before they're used to build the mode) and LinearRegression"
   ]
  },
  {
   "cell_type": "code",
   "execution_count": 9,
   "metadata": {},
   "outputs": [],
   "source": [
    "pipeline = make_pipeline(\n",
    "    StandardScaler(with_mean = True), \n",
    "    LinearRegression(n_jobs = -1)\n",
    ")"
   ]
  },
  {
   "attachments": {},
   "cell_type": "markdown",
   "metadata": {},
   "source": [
    "hyperparameters to tune (By nature, a simple linear regression like this one does not have that many hyperparameters to tune)"
   ]
  },
  {
   "cell_type": "code",
   "execution_count": 10,
   "metadata": {},
   "outputs": [],
   "source": [
    "params = {\n",
    "    'linearregression__fit_intercept': [True]\n",
    "}"
   ]
  },
  {
   "attachments": {},
   "cell_type": "markdown",
   "metadata": {},
   "source": [
    "Using grid search to find the best hyperparameters.\n",
    "\n",
    "We specified 5 cross-validations to avoid overfitting the model; that is, the data is split into 5 parts, using 4 to train and 1 to test, and repeating the process a total of 5 times "
   ]
  },
  {
   "cell_type": "code",
   "execution_count": 11,
   "metadata": {},
   "outputs": [
    {
     "data": {
      "text/html": [
       "<style>#sk-container-id-1 {color: black;background-color: white;}#sk-container-id-1 pre{padding: 0;}#sk-container-id-1 div.sk-toggleable {background-color: white;}#sk-container-id-1 label.sk-toggleable__label {cursor: pointer;display: block;width: 100%;margin-bottom: 0;padding: 0.3em;box-sizing: border-box;text-align: center;}#sk-container-id-1 label.sk-toggleable__label-arrow:before {content: \"▸\";float: left;margin-right: 0.25em;color: #696969;}#sk-container-id-1 label.sk-toggleable__label-arrow:hover:before {color: black;}#sk-container-id-1 div.sk-estimator:hover label.sk-toggleable__label-arrow:before {color: black;}#sk-container-id-1 div.sk-toggleable__content {max-height: 0;max-width: 0;overflow: hidden;text-align: left;background-color: #f0f8ff;}#sk-container-id-1 div.sk-toggleable__content pre {margin: 0.2em;color: black;border-radius: 0.25em;background-color: #f0f8ff;}#sk-container-id-1 input.sk-toggleable__control:checked~div.sk-toggleable__content {max-height: 200px;max-width: 100%;overflow: auto;}#sk-container-id-1 input.sk-toggleable__control:checked~label.sk-toggleable__label-arrow:before {content: \"▾\";}#sk-container-id-1 div.sk-estimator input.sk-toggleable__control:checked~label.sk-toggleable__label {background-color: #d4ebff;}#sk-container-id-1 div.sk-label input.sk-toggleable__control:checked~label.sk-toggleable__label {background-color: #d4ebff;}#sk-container-id-1 input.sk-hidden--visually {border: 0;clip: rect(1px 1px 1px 1px);clip: rect(1px, 1px, 1px, 1px);height: 1px;margin: -1px;overflow: hidden;padding: 0;position: absolute;width: 1px;}#sk-container-id-1 div.sk-estimator {font-family: monospace;background-color: #f0f8ff;border: 1px dotted black;border-radius: 0.25em;box-sizing: border-box;margin-bottom: 0.5em;}#sk-container-id-1 div.sk-estimator:hover {background-color: #d4ebff;}#sk-container-id-1 div.sk-parallel-item::after {content: \"\";width: 100%;border-bottom: 1px solid gray;flex-grow: 1;}#sk-container-id-1 div.sk-label:hover label.sk-toggleable__label {background-color: #d4ebff;}#sk-container-id-1 div.sk-serial::before {content: \"\";position: absolute;border-left: 1px solid gray;box-sizing: border-box;top: 0;bottom: 0;left: 50%;z-index: 0;}#sk-container-id-1 div.sk-serial {display: flex;flex-direction: column;align-items: center;background-color: white;padding-right: 0.2em;padding-left: 0.2em;position: relative;}#sk-container-id-1 div.sk-item {position: relative;z-index: 1;}#sk-container-id-1 div.sk-parallel {display: flex;align-items: stretch;justify-content: center;background-color: white;position: relative;}#sk-container-id-1 div.sk-item::before, #sk-container-id-1 div.sk-parallel-item::before {content: \"\";position: absolute;border-left: 1px solid gray;box-sizing: border-box;top: 0;bottom: 0;left: 50%;z-index: -1;}#sk-container-id-1 div.sk-parallel-item {display: flex;flex-direction: column;z-index: 1;position: relative;background-color: white;}#sk-container-id-1 div.sk-parallel-item:first-child::after {align-self: flex-end;width: 50%;}#sk-container-id-1 div.sk-parallel-item:last-child::after {align-self: flex-start;width: 50%;}#sk-container-id-1 div.sk-parallel-item:only-child::after {width: 0;}#sk-container-id-1 div.sk-dashed-wrapped {border: 1px dashed gray;margin: 0 0.4em 0.5em 0.4em;box-sizing: border-box;padding-bottom: 0.4em;background-color: white;}#sk-container-id-1 div.sk-label label {font-family: monospace;font-weight: bold;display: inline-block;line-height: 1.2em;}#sk-container-id-1 div.sk-label-container {text-align: center;}#sk-container-id-1 div.sk-container {/* jupyter's `normalize.less` sets `[hidden] { display: none; }` but bootstrap.min.css set `[hidden] { display: none !important; }` so we also need the `!important` here to be able to override the default hidden behavior on the sphinx rendered scikit-learn.org. See: https://github.com/scikit-learn/scikit-learn/issues/21755 */display: inline-block !important;position: relative;}#sk-container-id-1 div.sk-text-repr-fallback {display: none;}</style><div id=\"sk-container-id-1\" class=\"sk-top-container\"><div class=\"sk-text-repr-fallback\"><pre>GridSearchCV(cv=5,\n",
       "             estimator=Pipeline(steps=[(&#x27;standardscaler&#x27;, StandardScaler()),\n",
       "                                       (&#x27;linearregression&#x27;,\n",
       "                                        LinearRegression(n_jobs=-1))]),\n",
       "             param_grid={&#x27;linearregression__fit_intercept&#x27;: [True]})</pre><b>In a Jupyter environment, please rerun this cell to show the HTML representation or trust the notebook. <br />On GitHub, the HTML representation is unable to render, please try loading this page with nbviewer.org.</b></div><div class=\"sk-container\" hidden><div class=\"sk-item sk-dashed-wrapped\"><div class=\"sk-label-container\"><div class=\"sk-label sk-toggleable\"><input class=\"sk-toggleable__control sk-hidden--visually\" id=\"sk-estimator-id-1\" type=\"checkbox\" ><label for=\"sk-estimator-id-1\" class=\"sk-toggleable__label sk-toggleable__label-arrow\">GridSearchCV</label><div class=\"sk-toggleable__content\"><pre>GridSearchCV(cv=5,\n",
       "             estimator=Pipeline(steps=[(&#x27;standardscaler&#x27;, StandardScaler()),\n",
       "                                       (&#x27;linearregression&#x27;,\n",
       "                                        LinearRegression(n_jobs=-1))]),\n",
       "             param_grid={&#x27;linearregression__fit_intercept&#x27;: [True]})</pre></div></div></div><div class=\"sk-parallel\"><div class=\"sk-parallel-item\"><div class=\"sk-item\"><div class=\"sk-label-container\"><div class=\"sk-label sk-toggleable\"><input class=\"sk-toggleable__control sk-hidden--visually\" id=\"sk-estimator-id-2\" type=\"checkbox\" ><label for=\"sk-estimator-id-2\" class=\"sk-toggleable__label sk-toggleable__label-arrow\">estimator: Pipeline</label><div class=\"sk-toggleable__content\"><pre>Pipeline(steps=[(&#x27;standardscaler&#x27;, StandardScaler()),\n",
       "                (&#x27;linearregression&#x27;, LinearRegression(n_jobs=-1))])</pre></div></div></div><div class=\"sk-serial\"><div class=\"sk-item\"><div class=\"sk-serial\"><div class=\"sk-item\"><div class=\"sk-estimator sk-toggleable\"><input class=\"sk-toggleable__control sk-hidden--visually\" id=\"sk-estimator-id-3\" type=\"checkbox\" ><label for=\"sk-estimator-id-3\" class=\"sk-toggleable__label sk-toggleable__label-arrow\">StandardScaler</label><div class=\"sk-toggleable__content\"><pre>StandardScaler()</pre></div></div></div><div class=\"sk-item\"><div class=\"sk-estimator sk-toggleable\"><input class=\"sk-toggleable__control sk-hidden--visually\" id=\"sk-estimator-id-4\" type=\"checkbox\" ><label for=\"sk-estimator-id-4\" class=\"sk-toggleable__label sk-toggleable__label-arrow\">LinearRegression</label><div class=\"sk-toggleable__content\"><pre>LinearRegression(n_jobs=-1)</pre></div></div></div></div></div></div></div></div></div></div></div></div>"
      ],
      "text/plain": [
       "GridSearchCV(cv=5,\n",
       "             estimator=Pipeline(steps=[('standardscaler', StandardScaler()),\n",
       "                                       ('linearregression',\n",
       "                                        LinearRegression(n_jobs=-1))]),\n",
       "             param_grid={'linearregression__fit_intercept': [True]})"
      ]
     },
     "execution_count": 11,
     "metadata": {},
     "output_type": "execute_result"
    }
   ],
   "source": [
    "grid = GridSearchCV(pipeline, param_grid = params, cv = 5)\n",
    "grid.fit(X_train, y_train)"
   ]
  },
  {
   "attachments": {},
   "cell_type": "markdown",
   "metadata": {},
   "source": [
    "Analyzing the coefficients"
   ]
  },
  {
   "cell_type": "code",
   "execution_count": 12,
   "metadata": {},
   "outputs": [
    {
     "data": {
      "text/html": [
       "<div>\n",
       "<style scoped>\n",
       "    .dataframe tbody tr th:only-of-type {\n",
       "        vertical-align: middle;\n",
       "    }\n",
       "\n",
       "    .dataframe tbody tr th {\n",
       "        vertical-align: top;\n",
       "    }\n",
       "\n",
       "    .dataframe thead th {\n",
       "        text-align: right;\n",
       "    }\n",
       "</style>\n",
       "<table border=\"1\" class=\"dataframe\">\n",
       "  <thead>\n",
       "    <tr style=\"text-align: right;\">\n",
       "      <th></th>\n",
       "      <th>Variable</th>\n",
       "      <th>Coefficient</th>\n",
       "    </tr>\n",
       "  </thead>\n",
       "  <tbody>\n",
       "    <tr>\n",
       "      <th>0</th>\n",
       "      <td>SqFtLot</td>\n",
       "      <td>12405.842631</td>\n",
       "    </tr>\n",
       "    <tr>\n",
       "      <th>1</th>\n",
       "      <td>SqFtTotLiving</td>\n",
       "      <td>43903.783435</td>\n",
       "    </tr>\n",
       "    <tr>\n",
       "      <th>2</th>\n",
       "      <td>SqFtFinBasement</td>\n",
       "      <td>-5509.565385</td>\n",
       "    </tr>\n",
       "    <tr>\n",
       "      <th>3</th>\n",
       "      <td>Bathrooms</td>\n",
       "      <td>223.575541</td>\n",
       "    </tr>\n",
       "    <tr>\n",
       "      <th>4</th>\n",
       "      <td>Bedrooms</td>\n",
       "      <td>-7875.603225</td>\n",
       "    </tr>\n",
       "    <tr>\n",
       "      <th>5</th>\n",
       "      <td>YrRenovated</td>\n",
       "      <td>-5748.297577</td>\n",
       "    </tr>\n",
       "    <tr>\n",
       "      <th>6</th>\n",
       "      <td>TrafficNoise</td>\n",
       "      <td>-938.201401</td>\n",
       "    </tr>\n",
       "    <tr>\n",
       "      <th>7</th>\n",
       "      <td>LandVal</td>\n",
       "      <td>188396.528430</td>\n",
       "    </tr>\n",
       "    <tr>\n",
       "      <th>8</th>\n",
       "      <td>ImpsVal</td>\n",
       "      <td>179216.564025</td>\n",
       "    </tr>\n",
       "    <tr>\n",
       "      <th>9</th>\n",
       "      <td>NewConstruction_encoded</td>\n",
       "      <td>7488.573354</td>\n",
       "    </tr>\n",
       "  </tbody>\n",
       "</table>\n",
       "</div>"
      ],
      "text/plain": [
       "                  Variable    Coefficient\n",
       "0                  SqFtLot   12405.842631\n",
       "1            SqFtTotLiving   43903.783435\n",
       "2          SqFtFinBasement   -5509.565385\n",
       "3                Bathrooms     223.575541\n",
       "4                 Bedrooms   -7875.603225\n",
       "5              YrRenovated   -5748.297577\n",
       "6             TrafficNoise    -938.201401\n",
       "7                  LandVal  188396.528430\n",
       "8                  ImpsVal  179216.564025\n",
       "9  NewConstruction_encoded    7488.573354"
      ]
     },
     "execution_count": 12,
     "metadata": {},
     "output_type": "execute_result"
    }
   ],
   "source": [
    "# Get the names of the variables in the pipeline\n",
    "var_names = X.columns.values\n",
    "\n",
    "# Get the coefficients of the variables in the pipeline\n",
    "coefficients = grid.best_estimator_.named_steps['linearregression'].coef_\n",
    "\n",
    "# Combine the variable names and coefficients into a dataframe\n",
    "coefs_df = pd.DataFrame(\n",
    "    {\n",
    "    'Variable': var_names, \n",
    "    'Coefficient': coefficients\n",
    "     }\n",
    ")\n",
    "coefs_df"
   ]
  },
  {
   "attachments": {},
   "cell_type": "markdown",
   "metadata": {},
   "source": [
    "From here, we see that 'SqFtFinBasement', 'Bedrooms', 'YrRenovated', & 'TrafficNoise' negatively impact the price level of a house. i.e., if a house has 10 rooms it is likely to be more expensive than a 2-room one."
   ]
  },
  {
   "attachments": {},
   "cell_type": "markdown",
   "metadata": {},
   "source": [
    "# Moded Diagnosis"
   ]
  },
  {
   "attachments": {},
   "cell_type": "markdown",
   "metadata": {},
   "source": [
    "Using the best estimator to make predictions on the test set"
   ]
  },
  {
   "cell_type": "code",
   "execution_count": 13,
   "metadata": {},
   "outputs": [],
   "source": [
    "y_pred_test = grid.predict(X_test)"
   ]
  },
  {
   "attachments": {},
   "cell_type": "markdown",
   "metadata": {},
   "source": [
    "the R-squared (explained variance) of the model on the test set"
   ]
  },
  {
   "cell_type": "code",
   "execution_count": 14,
   "metadata": {},
   "outputs": [
    {
     "name": "stdout",
     "output_type": "stream",
     "text": [
      "R-squared: 0.8797958311580365\n"
     ]
    }
   ],
   "source": [
    "print('R-squared:', r2_score(y_test, y_pred_test))"
   ]
  },
  {
   "attachments": {},
   "cell_type": "markdown",
   "metadata": {},
   "source": [
    "And the mean squared error of the model on the test set"
   ]
  },
  {
   "cell_type": "code",
   "execution_count": 15,
   "metadata": {},
   "outputs": [
    {
     "name": "stdout",
     "output_type": "stream",
     "text": [
      "MSE: 18715972399.975502\n"
     ]
    }
   ],
   "source": [
    "print('MSE:', mean_squared_error(y_test, y_pred_test))"
   ]
  },
  {
   "attachments": {},
   "cell_type": "markdown",
   "metadata": {},
   "source": [
    "Plotting the residuals of the model on the test set"
   ]
  },
  {
   "cell_type": "code",
   "execution_count": 16,
   "metadata": {},
   "outputs": [
    {
     "data": {
      "text/plain": [
       "[]"
      ]
     },
     "execution_count": 16,
     "metadata": {},
     "output_type": "execute_result"
    },
    {
     "data": {
      "image/png": "[encoded data removed]",
      "text/plain": [
       "<Figure size 432x288 with 1 Axes>"
      ]
     },
     "metadata": {
      "needs_background": "light"
     },
     "output_type": "display_data"
    }
   ],
   "source": [
    "residuals_test = y_test - y_pred_test\n",
    "sns.scatterplot(x = y_pred_test, y = residuals_test)\n",
    "plt.xlabel('Predicted AdjSalePrice')\n",
    "plt.ylabel('Test Residuals')\n",
    "plt.title('Test Residual Plot')\n",
    "plt.plot()"
   ]
  },
  {
   "attachments": {},
   "cell_type": "markdown",
   "metadata": {},
   "source": [
    "An R$^2$ of 88% is quite good and indicates that the model can explain the majority of the variance in the data"
   ]
  },
  {
   "attachments": {},
   "cell_type": "markdown",
   "metadata": {},
   "source": [
    "Let's look at the overall performance of the model"
   ]
  },
  {
   "cell_type": "code",
   "execution_count": 17,
   "metadata": {},
   "outputs": [],
   "source": [
    "y_pred_all = grid.predict(X)"
   ]
  },
  {
   "attachments": {},
   "cell_type": "markdown",
   "metadata": {},
   "source": [
    "the R-squared (explained variance) of the model on the entire dataset"
   ]
  },
  {
   "cell_type": "code",
   "execution_count": 18,
   "metadata": {},
   "outputs": [
    {
     "name": "stdout",
     "output_type": "stream",
     "text": [
      "R-squared: 0.8708521289726638\n"
     ]
    }
   ],
   "source": [
    "print('R-squared:', r2_score(y, y_pred_all))"
   ]
  },
  {
   "attachments": {},
   "cell_type": "markdown",
   "metadata": {},
   "source": [
    "And the mean squared error of the model on the entire dataset"
   ]
  },
  {
   "cell_type": "code",
   "execution_count": 19,
   "metadata": {},
   "outputs": [
    {
     "name": "stdout",
     "output_type": "stream",
     "text": [
      "MSE: 19182180550.235657\n"
     ]
    }
   ],
   "source": [
    "print('MSE:', mean_squared_error(y, y_pred_all))"
   ]
  },
  {
   "attachments": {},
   "cell_type": "markdown",
   "metadata": {},
   "source": [
    "Plotting the residuals of the model on the entire dataset"
   ]
  },
  {
   "cell_type": "code",
   "execution_count": 20,
   "metadata": {},
   "outputs": [
    {
     "data": {
      "text/plain": [
       "[]"
      ]
     },
     "execution_count": 20,
     "metadata": {},
     "output_type": "execute_result"
    },
    {
     "data": {
      "image/png": "[encoded data removed]",
      "text/plain": [
       "<Figure size 432x288 with 1 Axes>"
      ]
     },
     "metadata": {
      "needs_background": "light"
     },
     "output_type": "display_data"
    }
   ],
   "source": [
    "residuals_all = y - y_pred_all\n",
    "sns.scatterplot(x = y_pred_all, y = residuals_all)\n",
    "plt.xlabel('Predicted AdjSalePrice')\n",
    "plt.ylabel('All Residuals')\n",
    "plt.title('All Residual Plot')\n",
    "plt.plot()"
   ]
  },
  {
   "attachments": {},
   "cell_type": "markdown",
   "metadata": {},
   "source": [
    "Testing for AutoCorrelation on the Residuals of the model"
   ]
  },
  {
   "cell_type": "code",
   "execution_count": 21,
   "metadata": {},
   "outputs": [
    {
     "name": "stdout",
     "output_type": "stream",
     "text": [
      "Durbin-Watson test statistic: 1.8900467880609755\n",
      "No significant autocorrelation detected.\n"
     ]
    }
   ],
   "source": [
    "# calculate the Durbin-Watson test statistic\n",
    "dw = sm.stats.stattools.durbin_watson(residuals_all)\n",
    "\n",
    "# print the test statistic and interpret the results\n",
    "print(\"Durbin-Watson test statistic:\", dw)\n",
    "\n",
    "if dw < 1.5:\n",
    "    print(\"Positive autocorrelation detected.\")\n",
    "\n",
    "elif dw > 2.5:\n",
    "    print(\"Negative autocorrelation detected.\")\n",
    "    \n",
    "else:\n",
    "    print(\"No significant autocorrelation detected.\")"
   ]
  },
  {
   "attachments": {},
   "cell_type": "markdown",
   "metadata": {},
   "source": [
    "Sound like good news!"
   ]
  },
  {
   "attachments": {},
   "cell_type": "markdown",
   "metadata": {},
   "source": [
    "Now, let's test for Heteroscedasticity in the model"
   ]
  },
  {
   "cell_type": "code",
   "execution_count": 22,
   "metadata": {},
   "outputs": [
    {
     "name": "stdout",
     "output_type": "stream",
     "text": [
      "Breusch-Pagan test statistic: 6025.384550066089\n",
      "p-value: 0.0\n",
      "Signs of heteroscedasticity detected.\n"
     ]
    }
   ],
   "source": [
    "# calculate the Breusch-Pagan test statistic\n",
    "bp = sm.stats.diagnostic.het_breuschpagan(residuals_all, X)\n",
    "\n",
    "# print the test statistic and interpret the results\n",
    "print(\"Breusch-Pagan test statistic:\", bp[0])\n",
    "print(\"p-value:\", bp[1])\n",
    "\n",
    "if bp[1] < 0.05:\n",
    "    print(\"Signs of heteroscedasticity detected.\")\n",
    "\n",
    "else:\n",
    "    print(\"No significant heteroscedasticity detected.\")"
   ]
  },
  {
   "attachments": {},
   "cell_type": "markdown",
   "metadata": {},
   "source": [
    "According to the Breusch-Pagan test result, we do see a changing variance among the data, which makes since we have houses of different prices, sizes, and values"
   ]
  },
  {
   "attachments": {},
   "cell_type": "markdown",
   "metadata": {},
   "source": [
    "# Results"
   ]
  },
  {
   "attachments": {},
   "cell_type": "markdown",
   "metadata": {},
   "source": [
    "Now let's report the predictions in a DataFrame"
   ]
  },
  {
   "attachments": {},
   "cell_type": "markdown",
   "metadata": {},
   "source": [
    "First, we'll have to have to inverse-transform the predicted prices back to USD.\n",
    "Since we implemented StandardSacaler() within a PipeLine, we must do this manually."
   ]
  },
  {
   "cell_type": "code",
   "execution_count": 23,
   "metadata": {},
   "outputs": [],
   "source": [
    "# Compute the mean and standard deviation of the target variable in the original data\n",
    "adj_saleprice_mean = np.mean(y)\n",
    "adj_saleprice_std = np.std(y)\n",
    "\n",
    "# Reverse the scaling of the predicted values\n",
    "y_pred_all_original_scale = y_pred_all * adj_saleprice_std + adj_saleprice_mean\n",
    "\n",
    "# Round the predicted values to the nearest integer\n",
    "y_pred_all_original_scale = np.round(y_pred_all_original_scale)"
   ]
  },
  {
   "attachments": {},
   "cell_type": "markdown",
   "metadata": {},
   "source": [
    "Creating the results DataFrame"
   ]
  },
  {
   "cell_type": "code",
   "execution_count": 24,
   "metadata": {},
   "outputs": [
    {
     "data": {
      "text/html": [
       "<div>\n",
       "<style scoped>\n",
       "    .dataframe tbody tr th:only-of-type {\n",
       "        vertical-align: middle;\n",
       "    }\n",
       "\n",
       "    .dataframe tbody tr th {\n",
       "        vertical-align: top;\n",
       "    }\n",
       "\n",
       "    .dataframe thead th {\n",
       "        text-align: right;\n",
       "    }\n",
       "</style>\n",
       "<table border=\"1\" class=\"dataframe\">\n",
       "  <thead>\n",
       "    <tr style=\"text-align: right;\">\n",
       "      <th></th>\n",
       "      <th>Property</th>\n",
       "      <th>Property Type</th>\n",
       "      <th>Predicted AdjSalePrice</th>\n",
       "    </tr>\n",
       "  </thead>\n",
       "  <tbody>\n",
       "    <tr>\n",
       "      <th>1</th>\n",
       "      <td>1000102</td>\n",
       "      <td>Multiplex</td>\n",
       "      <td>1.327267e+11</td>\n",
       "    </tr>\n",
       "    <tr>\n",
       "      <th>2</th>\n",
       "      <td>1200013</td>\n",
       "      <td>Single Family</td>\n",
       "      <td>3.328137e+11</td>\n",
       "    </tr>\n",
       "    <tr>\n",
       "      <th>3</th>\n",
       "      <td>1200019</td>\n",
       "      <td>Single Family</td>\n",
       "      <td>1.915295e+11</td>\n",
       "    </tr>\n",
       "    <tr>\n",
       "      <th>4</th>\n",
       "      <td>2800016</td>\n",
       "      <td>Single Family</td>\n",
       "      <td>1.568090e+11</td>\n",
       "    </tr>\n",
       "    <tr>\n",
       "      <th>5</th>\n",
       "      <td>2800024</td>\n",
       "      <td>Single Family</td>\n",
       "      <td>1.332079e+11</td>\n",
       "    </tr>\n",
       "    <tr>\n",
       "      <th>...</th>\n",
       "      <td>...</td>\n",
       "      <td>...</td>\n",
       "      <td>...</td>\n",
       "    </tr>\n",
       "    <tr>\n",
       "      <th>27057</th>\n",
       "      <td>9842300710</td>\n",
       "      <td>Single Family</td>\n",
       "      <td>1.585306e+11</td>\n",
       "    </tr>\n",
       "    <tr>\n",
       "      <th>27058</th>\n",
       "      <td>9845500010</td>\n",
       "      <td>Single Family</td>\n",
       "      <td>6.584465e+11</td>\n",
       "    </tr>\n",
       "    <tr>\n",
       "      <th>27061</th>\n",
       "      <td>9899200010</td>\n",
       "      <td>Single Family</td>\n",
       "      <td>9.382841e+10</td>\n",
       "    </tr>\n",
       "    <tr>\n",
       "      <th>27062</th>\n",
       "      <td>9900000355</td>\n",
       "      <td>Single Family</td>\n",
       "      <td>1.309542e+11</td>\n",
       "    </tr>\n",
       "    <tr>\n",
       "      <th>27063</th>\n",
       "      <td>9906000035</td>\n",
       "      <td>Single Family</td>\n",
       "      <td>2.226900e+11</td>\n",
       "    </tr>\n",
       "  </tbody>\n",
       "</table>\n",
       "<p>22687 rows × 3 columns</p>\n",
       "</div>"
      ],
      "text/plain": [
       "         Property  Property Type  Predicted AdjSalePrice\n",
       "1         1000102      Multiplex            1.327267e+11\n",
       "2         1200013  Single Family            3.328137e+11\n",
       "3         1200019  Single Family            1.915295e+11\n",
       "4         2800016  Single Family            1.568090e+11\n",
       "5         2800024  Single Family            1.332079e+11\n",
       "...           ...            ...                     ...\n",
       "27057  9842300710  Single Family            1.585306e+11\n",
       "27058  9845500010  Single Family            6.584465e+11\n",
       "27061  9899200010  Single Family            9.382841e+10\n",
       "27062  9900000355  Single Family            1.309542e+11\n",
       "27063  9906000035  Single Family            2.226900e+11\n",
       "\n",
       "[22687 rows x 3 columns]"
      ]
     },
     "execution_count": 24,
     "metadata": {},
     "output_type": "execute_result"
    }
   ],
   "source": [
    "results = pd.DataFrame(\n",
    "    {\n",
    "    'Property': data['PropertyID'],\n",
    "    'Property Type': data['PropertyType'],\n",
    "    'Predicted AdjSalePrice': y_pred_all_original_scale\n",
    "    }\n",
    ")\n",
    "\n",
    "results"
   ]
  },
  {
   "attachments": {},
   "cell_type": "markdown",
   "metadata": {},
   "source": [
    "Writting to a CSV file"
   ]
  },
  {
   "cell_type": "code",
   "execution_count": 25,
   "metadata": {},
   "outputs": [],
   "source": [
    "results.to_csv('results.csv', index = False)"
   ]
  },
  {
   "attachments": {},
   "cell_type": "markdown",
   "metadata": {},
   "source": [
    "And finally, let's save the model for future use:"
   ]
  },
  {
   "cell_type": "code",
   "execution_count": 26,
   "metadata": {},
   "outputs": [
    {
     "data": {
      "text/plain": [
       "['Hosuing_prices_predictor.pkl']"
      ]
     },
     "execution_count": 26,
     "metadata": {},
     "output_type": "execute_result"
    }
   ],
   "source": [
    "joblib.dump(grid, 'Hosuing_prices_predictor.pkl')"
   ]
  },
  {
   "attachments": {},
   "cell_type": "markdown",
   "metadata": {},
   "source": [
    "### Additionally, I made a Flask app where you can run it, enter your variables manually and obtain a prediction of the house you want!"
   ]
  },
  {
   "attachments": {},
   "cell_type": "markdown",
   "metadata": {},
   "source": [
    "### Check 'Flask_app.py'"
   ]
  },
  {
   "attachments": {},
   "cell_type": "markdown",
   "metadata": {},
   "source": [
    "# Thanks for reading!"
   ]
  }
 ],
 "metadata": {
  "kernelspec": {
   "display_name": "Python 3",
   "language": "python",
   "name": "python3"
  },
  "language_info": {
   "codemirror_mode": {
    "name": "ipython",
    "version": 3
   },
   "file_extension": ".py",
   "mimetype": "text/x-python",
   "name": "python",
   "nbconvert_exporter": "python",
   "pygments_lexer": "ipython3",
   "version": "3.10.5"
  },
  "orig_nbformat": 4
 },
 "nbformat": 4,
 "nbformat_minor": 2
}
